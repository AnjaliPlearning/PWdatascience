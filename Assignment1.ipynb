{
 "cells": [
  {
   "cell_type": "code",
   "execution_count": null,
   "id": "789041d3-eee7-4623-99e8-52d990f78609",
   "metadata": {},
   "outputs": [],
   "source": [
    "Q1 = \"Anjali's Assignment 1\"\n",
    "Q2 = [2, 6, 1, 2]\n",
    "Q3 = 26.12\n",
    "Q4 = (26, 12, 23, 8)"
   ]
  },
  {
   "cell_type": "code",
   "execution_count": null,
   "id": "dab2c5f9-cb37-4f80-bd40-7ae2adaec256",
   "metadata": {},
   "outputs": [],
   "source": [
    "#(i) var1 ==> STRING\n",
    "#(ii) var2 = ‘[ DS , ML , Python]’==> STRING\n",
    "#(iii) var3 = [ ‘DS’ , ’ML’ , ‘Python’ ]==> LIST\n",
    "#(iv) var4 = 1. ==> FLOAT***"
   ]
  },
  {
   "cell_type": "code",
   "execution_count": 1,
   "id": "72094a1f-162b-40e8-af97-226301d80580",
   "metadata": {},
   "outputs": [
    {
     "name": "stdout",
     "output_type": "stream",
     "text": [
      "3.0\n"
     ]
    }
   ],
   "source": [
    "#/ OPERATOR IS THE DIVISION OPERATOR. IT RETURNS THE QUOTIENT OF THE 2 NUMBERS AS A FLOAT.\n",
    "\n",
    "div = 12/4\n",
    "print(div)"
   ]
  },
  {
   "cell_type": "code",
   "execution_count": 4,
   "id": "3ce92703-d531-4428-959a-442efe50c9b7",
   "metadata": {},
   "outputs": [
    {
     "name": "stdout",
     "output_type": "stream",
     "text": [
      "2\n"
     ]
    }
   ],
   "source": [
    "#% OPERATOR IS THE MODULO OPERATOR. IT RETURNS THE REMAINDER OF THE 2 NUMBERS\n",
    "mod = 26%12\n",
    "print(mod)"
   ]
  },
  {
   "cell_type": "code",
   "execution_count": 9,
   "id": "9fe251a1-253a-4c24-a4dd-17096e57bd71",
   "metadata": {},
   "outputs": [
    {
     "name": "stdout",
     "output_type": "stream",
     "text": [
      "5\n"
     ]
    }
   ],
   "source": [
    "#// operator is the floor division operator which returns the quotient of the 2 numbers but as an integer which is rounded down to the nearest whole number\n",
    "\n",
    "flrd = 35//6\n",
    "print(flrd)"
   ]
  },
  {
   "cell_type": "code",
   "execution_count": 12,
   "id": "e63c4f4a-c49b-4c55-ad3c-f956618538fc",
   "metadata": {},
   "outputs": [
    {
     "name": "stdout",
     "output_type": "stream",
     "text": [
      "512\n"
     ]
    }
   ],
   "source": [
    "#** operator is teh exponential operator which is raising first number to the power of second as in-\n",
    "\n",
    "power = 8**3\n",
    "print(power)\n",
    "\n",
    "#here, it will raise 8 to the power of 3 meaning = 8*8*8"
   ]
  },
  {
   "cell_type": "code",
   "execution_count": 3,
   "id": "ab932e36-2a7b-47dc-9ab3-77b3f9a7d8dd",
   "metadata": {},
   "outputs": [
    {
     "name": "stdout",
     "output_type": "stream",
     "text": [
      "<class 'int'>\n",
      "<class 'float'>\n",
      "<class 'str'>\n",
      "<class 'bool'>\n"
     ]
    }
   ],
   "source": [
    "#Q4\n",
    "list = [1, 3.9, \"hey\", True]\n",
    "for i in list:\n",
    "    print(type(i))"
   ]
  },
  {
   "cell_type": "code",
   "execution_count": 7,
   "id": "f7497d1c-0b7c-49f6-ae02-69aae8a8d764",
   "metadata": {},
   "outputs": [
    {
     "name": "stdout",
     "output_type": "stream",
     "text": [
      "PURELY DIVISIBLE\n",
      "PURELY DIVISIBLE\n",
      "A IS PURELY DIVISIBLE BY BY B 2 times\n"
     ]
    }
   ],
   "source": [
    "#Q5\n",
    "A = 36\n",
    "B = 2\n",
    "\n",
    "c = 0\n",
    "while A%B == 0:\n",
    "    print('PURELY DIVISIBLE')\n",
    "    c = c + 1\n",
    "    A= A//B\n",
    "    \n",
    "print( 'A IS PURELY DIVISIBLE BY BY B', c, 'times')\n"
   ]
  },
  {
   "cell_type": "code",
   "execution_count": 2,
   "id": "3e318280-436f-440b-85e3-f2006ad8851a",
   "metadata": {},
   "outputs": [
    {
     "name": "stdout",
     "output_type": "stream",
     "text": [
      "1 is not divisible by 3\n",
      "2 is not divisible by 3\n",
      "3 is divisible by 3\n",
      "4 is not divisible by 3\n",
      "5 is not divisible by 3\n",
      "6 is divisible by 3\n",
      "7 is not divisible by 3\n",
      "8 is not divisible by 3\n",
      "9 is divisible by 3\n",
      "10 is not divisible by 3\n",
      "11 is not divisible by 3\n",
      "12 is divisible by 3\n",
      "13 is not divisible by 3\n",
      "14 is not divisible by 3\n",
      "15 is divisible by 3\n",
      "16 is not divisible by 3\n",
      "17 is not divisible by 3\n",
      "18 is divisible by 3\n",
      "19 is not divisible by 3\n",
      "20 is not divisible by 3\n",
      "21 is divisible by 3\n",
      "22 is not divisible by 3\n",
      "23 is not divisible by 3\n",
      "24 is divisible by 3\n",
      "25 is not divisible by 3\n"
     ]
    }
   ],
   "source": [
    "#Q6\n",
    "list = [1, 2,3,4,5,6,7,8,9, 10,11, 12, 13, 14, 15, 16, 17, 18, 19, 20, 21,22,23,24,25]\n",
    "for i in list:\n",
    "    if i%3 == 0:\n",
    "        print(i, \"is divisible by 3\")\n",
    "    else:\n",
    "        print(i, \"is not divisible by 3\")"
   ]
  },
  {
   "cell_type": "code",
   "execution_count": 7,
   "id": "f1232695-d37e-41a6-9332-cca85c2cef0c",
   "metadata": {},
   "outputs": [
    {
     "name": "stdout",
     "output_type": "stream",
     "text": [
      "[2, 1, 0, 8]\n"
     ]
    }
   ],
   "source": [
    "#Q7\n",
    "\n",
    "#mutable data types are those that can be changed after creation. eg-\n",
    "#list\n",
    "\n",
    "list = [2, 3, 0 , 8]\n",
    "list[1] = 1\n",
    "print(list)"
   ]
  },
  {
   "cell_type": "code",
   "execution_count": 8,
   "id": "dac2bc3d-55b8-496c-835a-8fcdb6842367",
   "metadata": {},
   "outputs": [
    {
     "ename": "TypeError",
     "evalue": "'tuple' object does not support item assignment",
     "output_type": "error",
     "traceback": [
      "\u001b[0;31m---------------------------------------------------------------------------\u001b[0m",
      "\u001b[0;31mTypeError\u001b[0m                                 Traceback (most recent call last)",
      "Cell \u001b[0;32mIn[8], line 6\u001b[0m\n\u001b[1;32m      1\u001b[0m \u001b[38;5;66;03m#Q7\u001b[39;00m\n\u001b[1;32m      2\u001b[0m \n\u001b[1;32m      3\u001b[0m \u001b[38;5;66;03m#immutable data types are the ones that cannot be modified or changed after creation. eg-\u001b[39;00m\n\u001b[1;32m      4\u001b[0m \u001b[38;5;66;03m#tuple\u001b[39;00m\n\u001b[1;32m      5\u001b[0m \u001b[38;5;28mtuple\u001b[39m \u001b[38;5;241m=\u001b[39m (\u001b[38;5;241m1\u001b[39m, \u001b[38;5;241m8\u001b[39m, \u001b[38;5;241m0\u001b[39m, \u001b[38;5;241m1\u001b[39m)\n\u001b[0;32m----> 6\u001b[0m \u001b[38;5;28;43mtuple\u001b[39;49m\u001b[43m[\u001b[49m\u001b[38;5;241;43m2\u001b[39;49m\u001b[43m]\u001b[49m \u001b[38;5;241m=\u001b[39m \u001b[38;5;241m2\u001b[39m\n\u001b[1;32m      7\u001b[0m \u001b[38;5;28mprint\u001b[39m(\u001b[38;5;28mtuple\u001b[39m)\n",
      "\u001b[0;31mTypeError\u001b[0m: 'tuple' object does not support item assignment"
     ]
    }
   ],
   "source": [
    "#Q7\n",
    "\n",
    "#immutable data types are the ones that cannot be modified or changed after creation. eg-\n",
    "#tuple. HERE THE ELEMENT AT 2 WILL NOT BE REPLACED, HENCE tuple will not be changed.\n",
    "tuple = (1, 8, 0, 1)\n",
    "tuple[2] = 2\n",
    "print(tuple)"
   ]
  },
  {
   "cell_type": "code",
   "execution_count": null,
   "id": "75853635-3290-47ff-b5fd-a50ca50a821d",
   "metadata": {},
   "outputs": [],
   "source": []
  }
 ],
 "metadata": {
  "kernelspec": {
   "display_name": "Python 3 (ipykernel)",
   "language": "python",
   "name": "python3"
  },
  "language_info": {
   "codemirror_mode": {
    "name": "ipython",
    "version": 3
   },
   "file_extension": ".py",
   "mimetype": "text/x-python",
   "name": "python",
   "nbconvert_exporter": "python",
   "pygments_lexer": "ipython3",
   "version": "3.10.8"
  }
 },
 "nbformat": 4,
 "nbformat_minor": 5
}
